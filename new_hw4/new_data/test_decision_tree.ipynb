{
 "cells": [
  {
   "cell_type": "code",
   "execution_count": 31,
   "metadata": {},
   "outputs": [],
   "source": [
    "import numpy as np\n",
    "\n",
    "\n",
    "def entropy(examples):\n",
    "    \"\"\"計算熵。\"\"\"\n",
    "    counts = np.unique(examples[:, -1], return_counts=True)\n",
    "    p = counts[1] / len(examples)\n",
    "    return -p * np.log2(p)\n",
    "\n",
    "\n",
    "def importance(attribute, examples):\n",
    "    \"\"\"計算屬性的重要性。\"\"\"\n",
    "    left_examples = examples[examples[:, attribute] == 0]\n",
    "    right_examples = examples[examples[:, attribute] == 1]\n",
    "    return entropy(examples) - (entropy(left_examples) + entropy(right_examples)) / 2\n",
    "\n",
    "\n",
    "def decision_tree_learning(examples, attributes, parent_examples):\n",
    "    \"\"\"決策樹學習。\"\"\"\n",
    "    if len(examples) == 0:\n",
    "        return parent_examples.mode(axis=0)[0]\n",
    "    elif all(examples[:, -1] == examples[0, -1]):\n",
    "        return examples[:, -1].item()\n",
    "    elif len(attributes) == 0:\n",
    "        return parent_examples.mode(axis=0)[0]\n",
    "    else:\n",
    "        attribute = attributes[np.argmax(\n",
    "            [importance(a, examples) for a in attributes])]\n",
    "        print(attribute)\n",
    "        tree = DecisionTree(attribute)\n",
    "        for value in np.unique(examples[:, attribute]):\n",
    "            exs = examples[examples[:, attribute] == value]\n",
    "            # subtree = decision_tree_learning(exs, attributes - [attribute], examples)\n",
    "            subtree = decision_tree_learning(exs, [attr for attr in attributes if attr != attribute], examples)\n",
    "            tree.add_branch(value, subtree)\n",
    "        return tree\n",
    "\n",
    "\n",
    "class DecisionTree(object):\n",
    "    \"\"\"決策樹類別。\"\"\"\n",
    "\n",
    "    def __init__(self, attribute):\n",
    "        self.attribute = attribute\n",
    "        self.left = None\n",
    "        self.right = None\n",
    "\n",
    "    def add_branch(self, value, subtree):\n",
    "        self.left = DecisionTree(value) if value < self.attribute else None\n",
    "        self.right = subtree\n",
    "\n",
    "    def classify(self, example):\n",
    "        if example[self.attribute] < self.attribute:\n",
    "            if self.left is not None:\n",
    "                print(\"left \", self.left.classify(example))\n",
    "                return self.left.classify(example)\n",
    "            else:\n",
    "                return None\n",
    "        else:\n",
    "            print(\"right \", self.right.classify(example))\n",
    "            return self.right.classify(example)"
   ]
  },
  {
   "cell_type": "code",
   "execution_count": 33,
   "metadata": {},
   "outputs": [
    {
     "name": "stdout",
     "output_type": "stream",
     "text": [
      "1\n"
     ]
    },
    {
     "ename": "ValueError",
     "evalue": "operands could not be broadcast together with shapes (2,) (0,) ",
     "output_type": "error",
     "traceback": [
      "\u001b[1;31m---------------------------------------------------------------------------\u001b[0m",
      "\u001b[1;31mValueError\u001b[0m                                Traceback (most recent call last)",
      "\u001b[1;32mc:\\Users\\rolan\\OneDrive\\桌面\\人工智慧導論\\new_hw4\\new_data\\test_decision_tree.ipynb 儲存格 2\u001b[0m line \u001b[0;36m1\n\u001b[0;32m     <a href='vscode-notebook-cell:/c%3A/Users/rolan/OneDrive/%E6%A1%8C%E9%9D%A2/%E4%BA%BA%E5%B7%A5%E6%99%BA%E6%85%A7%E5%B0%8E%E8%AB%96/new_hw4/new_data/test_decision_tree.ipynb#W1sZmlsZQ%3D%3D?line=12'>13</a>\u001b[0m parent_examples \u001b[39m=\u001b[39m \u001b[39mNone\u001b[39;00m\n\u001b[0;32m     <a href='vscode-notebook-cell:/c%3A/Users/rolan/OneDrive/%E6%A1%8C%E9%9D%A2/%E4%BA%BA%E5%B7%A5%E6%99%BA%E6%85%A7%E5%B0%8E%E8%AB%96/new_hw4/new_data/test_decision_tree.ipynb#W1sZmlsZQ%3D%3D?line=13'>14</a>\u001b[0m \u001b[39m# 訓練決策樹\u001b[39;00m\n\u001b[1;32m---> <a href='vscode-notebook-cell:/c%3A/Users/rolan/OneDrive/%E6%A1%8C%E9%9D%A2/%E4%BA%BA%E5%B7%A5%E6%99%BA%E6%85%A7%E5%B0%8E%E8%AB%96/new_hw4/new_data/test_decision_tree.ipynb#W1sZmlsZQ%3D%3D?line=14'>15</a>\u001b[0m tree \u001b[39m=\u001b[39m decision_tree_learning(examples, attributes, parent_examples)\n\u001b[0;32m     <a href='vscode-notebook-cell:/c%3A/Users/rolan/OneDrive/%E6%A1%8C%E9%9D%A2/%E4%BA%BA%E5%B7%A5%E6%99%BA%E6%85%A7%E5%B0%8E%E8%AB%96/new_hw4/new_data/test_decision_tree.ipynb#W1sZmlsZQ%3D%3D?line=16'>17</a>\u001b[0m \u001b[39m# 預測結果\u001b[39;00m\n\u001b[0;32m     <a href='vscode-notebook-cell:/c%3A/Users/rolan/OneDrive/%E6%A1%8C%E9%9D%A2/%E4%BA%BA%E5%B7%A5%E6%99%BA%E6%85%A7%E5%B0%8E%E8%AB%96/new_hw4/new_data/test_decision_tree.ipynb#W1sZmlsZQ%3D%3D?line=17'>18</a>\u001b[0m \u001b[39mprint\u001b[39m(tree\u001b[39m.\u001b[39mclassify([\u001b[39m0\u001b[39m, \u001b[39m0\u001b[39m, \u001b[39m0\u001b[39m]))\n",
      "\u001b[1;32mc:\\Users\\rolan\\OneDrive\\桌面\\人工智慧導論\\new_hw4\\new_data\\test_decision_tree.ipynb 儲存格 2\u001b[0m line \u001b[0;36m3\n\u001b[0;32m     <a href='vscode-notebook-cell:/c%3A/Users/rolan/OneDrive/%E6%A1%8C%E9%9D%A2/%E4%BA%BA%E5%B7%A5%E6%99%BA%E6%85%A7%E5%B0%8E%E8%AB%96/new_hw4/new_data/test_decision_tree.ipynb#W1sZmlsZQ%3D%3D?line=31'>32</a>\u001b[0m     exs \u001b[39m=\u001b[39m examples[examples[:, attribute] \u001b[39m==\u001b[39m value]\n\u001b[0;32m     <a href='vscode-notebook-cell:/c%3A/Users/rolan/OneDrive/%E6%A1%8C%E9%9D%A2/%E4%BA%BA%E5%B7%A5%E6%99%BA%E6%85%A7%E5%B0%8E%E8%AB%96/new_hw4/new_data/test_decision_tree.ipynb#W1sZmlsZQ%3D%3D?line=32'>33</a>\u001b[0m     \u001b[39m# subtree = decision_tree_learning(exs, attributes - [attribute], examples)\u001b[39;00m\n\u001b[1;32m---> <a href='vscode-notebook-cell:/c%3A/Users/rolan/OneDrive/%E6%A1%8C%E9%9D%A2/%E4%BA%BA%E5%B7%A5%E6%99%BA%E6%85%A7%E5%B0%8E%E8%AB%96/new_hw4/new_data/test_decision_tree.ipynb#W1sZmlsZQ%3D%3D?line=33'>34</a>\u001b[0m     subtree \u001b[39m=\u001b[39m decision_tree_learning(exs, [attr \u001b[39mfor\u001b[39;00m attr \u001b[39min\u001b[39;00m attributes \u001b[39mif\u001b[39;00m attr \u001b[39m!=\u001b[39m attribute], examples)\n\u001b[0;32m     <a href='vscode-notebook-cell:/c%3A/Users/rolan/OneDrive/%E6%A1%8C%E9%9D%A2/%E4%BA%BA%E5%B7%A5%E6%99%BA%E6%85%A7%E5%B0%8E%E8%AB%96/new_hw4/new_data/test_decision_tree.ipynb#W1sZmlsZQ%3D%3D?line=34'>35</a>\u001b[0m     tree\u001b[39m.\u001b[39madd_branch(value, subtree)\n\u001b[0;32m     <a href='vscode-notebook-cell:/c%3A/Users/rolan/OneDrive/%E6%A1%8C%E9%9D%A2/%E4%BA%BA%E5%B7%A5%E6%99%BA%E6%85%A7%E5%B0%8E%E8%AB%96/new_hw4/new_data/test_decision_tree.ipynb#W1sZmlsZQ%3D%3D?line=35'>36</a>\u001b[0m \u001b[39mreturn\u001b[39;00m tree\n",
      "\u001b[1;32mc:\\Users\\rolan\\OneDrive\\桌面\\人工智慧導論\\new_hw4\\new_data\\test_decision_tree.ipynb 儲存格 2\u001b[0m line \u001b[0;36m2\n\u001b[0;32m     <a href='vscode-notebook-cell:/c%3A/Users/rolan/OneDrive/%E6%A1%8C%E9%9D%A2/%E4%BA%BA%E5%B7%A5%E6%99%BA%E6%85%A7%E5%B0%8E%E8%AB%96/new_hw4/new_data/test_decision_tree.ipynb#W1sZmlsZQ%3D%3D?line=24'>25</a>\u001b[0m     \u001b[39mreturn\u001b[39;00m parent_examples\u001b[39m.\u001b[39mmode(axis\u001b[39m=\u001b[39m\u001b[39m0\u001b[39m)[\u001b[39m0\u001b[39m]\n\u001b[0;32m     <a href='vscode-notebook-cell:/c%3A/Users/rolan/OneDrive/%E6%A1%8C%E9%9D%A2/%E4%BA%BA%E5%B7%A5%E6%99%BA%E6%85%A7%E5%B0%8E%E8%AB%96/new_hw4/new_data/test_decision_tree.ipynb#W1sZmlsZQ%3D%3D?line=25'>26</a>\u001b[0m \u001b[39melse\u001b[39;00m:\n\u001b[0;32m     <a href='vscode-notebook-cell:/c%3A/Users/rolan/OneDrive/%E6%A1%8C%E9%9D%A2/%E4%BA%BA%E5%B7%A5%E6%99%BA%E6%85%A7%E5%B0%8E%E8%AB%96/new_hw4/new_data/test_decision_tree.ipynb#W1sZmlsZQ%3D%3D?line=26'>27</a>\u001b[0m     attribute \u001b[39m=\u001b[39m attributes[np\u001b[39m.\u001b[39margmax(\n\u001b[1;32m---> <a href='vscode-notebook-cell:/c%3A/Users/rolan/OneDrive/%E6%A1%8C%E9%9D%A2/%E4%BA%BA%E5%B7%A5%E6%99%BA%E6%85%A7%E5%B0%8E%E8%AB%96/new_hw4/new_data/test_decision_tree.ipynb#W1sZmlsZQ%3D%3D?line=27'>28</a>\u001b[0m         [importance(a, examples) \u001b[39mfor\u001b[39;00m a \u001b[39min\u001b[39;00m attributes])]\n\u001b[0;32m     <a href='vscode-notebook-cell:/c%3A/Users/rolan/OneDrive/%E6%A1%8C%E9%9D%A2/%E4%BA%BA%E5%B7%A5%E6%99%BA%E6%85%A7%E5%B0%8E%E8%AB%96/new_hw4/new_data/test_decision_tree.ipynb#W1sZmlsZQ%3D%3D?line=28'>29</a>\u001b[0m     \u001b[39mprint\u001b[39m(attribute)\n\u001b[0;32m     <a href='vscode-notebook-cell:/c%3A/Users/rolan/OneDrive/%E6%A1%8C%E9%9D%A2/%E4%BA%BA%E5%B7%A5%E6%99%BA%E6%85%A7%E5%B0%8E%E8%AB%96/new_hw4/new_data/test_decision_tree.ipynb#W1sZmlsZQ%3D%3D?line=29'>30</a>\u001b[0m     tree \u001b[39m=\u001b[39m DecisionTree(attribute)\n",
      "\u001b[1;32mc:\\Users\\rolan\\OneDrive\\桌面\\人工智慧導論\\new_hw4\\new_data\\test_decision_tree.ipynb 儲存格 2\u001b[0m line \u001b[0;36m2\n\u001b[0;32m     <a href='vscode-notebook-cell:/c%3A/Users/rolan/OneDrive/%E6%A1%8C%E9%9D%A2/%E4%BA%BA%E5%B7%A5%E6%99%BA%E6%85%A7%E5%B0%8E%E8%AB%96/new_hw4/new_data/test_decision_tree.ipynb#W1sZmlsZQ%3D%3D?line=24'>25</a>\u001b[0m     \u001b[39mreturn\u001b[39;00m parent_examples\u001b[39m.\u001b[39mmode(axis\u001b[39m=\u001b[39m\u001b[39m0\u001b[39m)[\u001b[39m0\u001b[39m]\n\u001b[0;32m     <a href='vscode-notebook-cell:/c%3A/Users/rolan/OneDrive/%E6%A1%8C%E9%9D%A2/%E4%BA%BA%E5%B7%A5%E6%99%BA%E6%85%A7%E5%B0%8E%E8%AB%96/new_hw4/new_data/test_decision_tree.ipynb#W1sZmlsZQ%3D%3D?line=25'>26</a>\u001b[0m \u001b[39melse\u001b[39;00m:\n\u001b[0;32m     <a href='vscode-notebook-cell:/c%3A/Users/rolan/OneDrive/%E6%A1%8C%E9%9D%A2/%E4%BA%BA%E5%B7%A5%E6%99%BA%E6%85%A7%E5%B0%8E%E8%AB%96/new_hw4/new_data/test_decision_tree.ipynb#W1sZmlsZQ%3D%3D?line=26'>27</a>\u001b[0m     attribute \u001b[39m=\u001b[39m attributes[np\u001b[39m.\u001b[39margmax(\n\u001b[1;32m---> <a href='vscode-notebook-cell:/c%3A/Users/rolan/OneDrive/%E6%A1%8C%E9%9D%A2/%E4%BA%BA%E5%B7%A5%E6%99%BA%E6%85%A7%E5%B0%8E%E8%AB%96/new_hw4/new_data/test_decision_tree.ipynb#W1sZmlsZQ%3D%3D?line=27'>28</a>\u001b[0m         [importance(a, examples) \u001b[39mfor\u001b[39;00m a \u001b[39min\u001b[39;00m attributes])]\n\u001b[0;32m     <a href='vscode-notebook-cell:/c%3A/Users/rolan/OneDrive/%E6%A1%8C%E9%9D%A2/%E4%BA%BA%E5%B7%A5%E6%99%BA%E6%85%A7%E5%B0%8E%E8%AB%96/new_hw4/new_data/test_decision_tree.ipynb#W1sZmlsZQ%3D%3D?line=28'>29</a>\u001b[0m     \u001b[39mprint\u001b[39m(attribute)\n\u001b[0;32m     <a href='vscode-notebook-cell:/c%3A/Users/rolan/OneDrive/%E6%A1%8C%E9%9D%A2/%E4%BA%BA%E5%B7%A5%E6%99%BA%E6%85%A7%E5%B0%8E%E8%AB%96/new_hw4/new_data/test_decision_tree.ipynb#W1sZmlsZQ%3D%3D?line=29'>30</a>\u001b[0m     tree \u001b[39m=\u001b[39m DecisionTree(attribute)\n",
      "\u001b[1;32mc:\\Users\\rolan\\OneDrive\\桌面\\人工智慧導論\\new_hw4\\new_data\\test_decision_tree.ipynb 儲存格 2\u001b[0m line \u001b[0;36m1\n\u001b[0;32m     <a href='vscode-notebook-cell:/c%3A/Users/rolan/OneDrive/%E6%A1%8C%E9%9D%A2/%E4%BA%BA%E5%B7%A5%E6%99%BA%E6%85%A7%E5%B0%8E%E8%AB%96/new_hw4/new_data/test_decision_tree.ipynb#W1sZmlsZQ%3D%3D?line=12'>13</a>\u001b[0m left_examples \u001b[39m=\u001b[39m examples[examples[:, attribute] \u001b[39m==\u001b[39m \u001b[39m0\u001b[39m]\n\u001b[0;32m     <a href='vscode-notebook-cell:/c%3A/Users/rolan/OneDrive/%E6%A1%8C%E9%9D%A2/%E4%BA%BA%E5%B7%A5%E6%99%BA%E6%85%A7%E5%B0%8E%E8%AB%96/new_hw4/new_data/test_decision_tree.ipynb#W1sZmlsZQ%3D%3D?line=13'>14</a>\u001b[0m right_examples \u001b[39m=\u001b[39m examples[examples[:, attribute] \u001b[39m==\u001b[39m \u001b[39m1\u001b[39m]\n\u001b[1;32m---> <a href='vscode-notebook-cell:/c%3A/Users/rolan/OneDrive/%E6%A1%8C%E9%9D%A2/%E4%BA%BA%E5%B7%A5%E6%99%BA%E6%85%A7%E5%B0%8E%E8%AB%96/new_hw4/new_data/test_decision_tree.ipynb#W1sZmlsZQ%3D%3D?line=14'>15</a>\u001b[0m \u001b[39mreturn\u001b[39;00m entropy(examples) \u001b[39m-\u001b[39m (entropy(left_examples) \u001b[39m+\u001b[39m entropy(right_examples)) \u001b[39m/\u001b[39m \u001b[39m2\u001b[39m\n",
      "\u001b[1;31mValueError\u001b[0m: operands could not be broadcast together with shapes (2,) (0,) "
     ]
    }
   ],
   "source": [
    "# 生成數據集\n",
    "examples = np.array([\n",
    "    [0,0,0,0],\n",
    "    [0,0,0,1],\n",
    "    [0,1,0,1],\n",
    "    [0,1,1,0],\n",
    "    [0,0,0,0],\n",
    "    [1,0,0,0],\n",
    "    [1,0,0,1],\n",
    "    [1,1,1,1],\n",
    "    ])\n",
    "attributes = [0, 1, 2]\n",
    "parent_examples = None\n",
    "# 訓練決策樹\n",
    "tree = decision_tree_learning(examples, attributes, parent_examples)\n",
    "\n",
    "# 預測結果\n",
    "print(tree.classify([0, 0, 0]))\n",
    "# 輸出：0"
   ]
  }
 ],
 "metadata": {
  "kernelspec": {
   "display_name": "main",
   "language": "python",
   "name": "python3"
  },
  "language_info": {
   "codemirror_mode": {
    "name": "ipython",
    "version": 3
   },
   "file_extension": ".py",
   "mimetype": "text/x-python",
   "name": "python",
   "nbconvert_exporter": "python",
   "pygments_lexer": "ipython3",
   "version": "3.11.3"
  }
 },
 "nbformat": 4,
 "nbformat_minor": 2
}
